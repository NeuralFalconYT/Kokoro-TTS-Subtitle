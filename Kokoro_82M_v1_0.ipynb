{
  "nbformat": 4,
  "nbformat_minor": 0,
  "metadata": {
    "colab": {
      "provenance": [],
      "gpuType": "T4"
    },
    "kernelspec": {
      "name": "python3",
      "display_name": "Python 3"
    },
    "language_info": {
      "name": "python"
    },
    "accelerator": "GPU"
  },
  "cells": [
    {
      "cell_type": "markdown",
      "source": [
        "[Kokoro-82M v1.0](https://huggingface.co/hexgrad/Kokoro-82M)"
      ],
      "metadata": {
        "id": "5LAp4JKRQJa4"
      }
    },
    {
      "cell_type": "code",
      "execution_count": 1,
      "metadata": {
        "cellView": "form",
        "id": "ycpG878e-9Se"
      },
      "outputs": [],
      "source": [
        "#@title Install Kokoro TTS\n",
        "%cd /content/\n",
        "!git clone https://github.com/NeuralFalconYT/Kokoro-TTS-Subtitle.git\n",
        "%cd /content/Kokoro-TTS-Subtitle\n",
        "!pip install -r requirements.txt\n",
        "!apt-get -qq -y install espeak-ng > /dev/null 2>&1\n",
        "from IPython.display import clear_output\n",
        "clear_output()"
      ]
    },
    {
      "cell_type": "code",
      "source": [
        "%cd /content/Kokoro-TTS-Subtitle\n",
        "!python beta.py --share\n",
        "# !python srt_dub.py --share\n",
        "# !python app.py --share"
      ],
      "metadata": {
        "id": "RRAZp7f6_ywU",
        "outputId": "1211511e-bd22-479f-ddcc-5adad5ab2e3b",
        "colab": {
          "base_uri": "https://localhost:8080/"
        }
      },
      "execution_count": null,
      "outputs": [
        {
          "output_type": "stream",
          "name": "stdout",
          "text": [
            " 66% 23/35 [00:27<00:08,  1.49it/s]"
          ]
        }
      ]
    }
  ]
}